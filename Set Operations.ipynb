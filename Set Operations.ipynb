{
 "cells": [
  {
   "cell_type": "markdown",
   "metadata": {},
   "source": [
    "#Union of Sets"
   ]
  },
  {
   "cell_type": "code",
   "execution_count": 1,
   "metadata": {},
   "outputs": [
    {
     "name": "stdout",
     "output_type": "stream",
     "text": [
      "Union: {0, 1, 2, 3, 4, 5, 6, 8}\n"
     ]
    }
   ],
   "source": [
    "Exercise\n",
    "# Given sets A and B\n",
    "A = {0, 2, 4, 6, 8}\n",
    "B = {1, 2, 3, 4, 5}\n",
    "print(\"Union:\", A | B) "
   ]
  },
  {
   "cell_type": "markdown",
   "metadata": {},
   "source": [
    "#Given two sets  A  and  B  as\n",
    "\n",
    "A={\"Apples\",\"Bananas\",\"Mangoes\"} \n",
    "B={\"Bananas\",\"Tomatoes\",\"Apples\",\"Potatoes\"} \n",
    "Print the union of both the sets"
   ]
  },
  {
   "cell_type": "code",
   "execution_count": 2,
   "metadata": {},
   "outputs": [
    {
     "name": "stdout",
     "output_type": "stream",
     "text": [
      "Union: {'Bananas', 'Potatoes', 'Tomatoes', 'Apples', 'Mangoes'}\n"
     ]
    }
   ],
   "source": [
    "# sets are defined \n",
    "A = {\"Apples\",\"Bananas\",\"Mangoes\"} \n",
    "B = {\"Bananas\",\"Tomatoes\",\"Apples\",\"Potatoes\"}\n",
    "\n",
    "# union \n",
    "print(\"Union:\", A | B)"
   ]
  },
  {
   "cell_type": "markdown",
   "metadata": {},
   "source": [
    "#Intersection Of Sets\n",
    "An intersection of two or more sets is the collection of all elements that are common in all of the individual sets. The operator to be used is '&' for intersection."
   ]
  },
  {
   "cell_type": "code",
   "execution_count": 3,
   "metadata": {},
   "outputs": [
    {
     "name": "stdout",
     "output_type": "stream",
     "text": [
      "Intersection: {2, 4}\n"
     ]
    }
   ],
   "source": [
    "# Given sets A and B\n",
    "A = {0, 2, 4, 6, 8}\n",
    "B = {1, 2, 3, 4, 5}\n",
    "print(\"Intersection:\", A & B) "
   ]
  },
  {
   "cell_type": "markdown",
   "metadata": {},
   "source": [
    "Exercise\n",
    "Given two sets  A  and  B  as\n",
    "\n",
    "A={\"Apples\",\"Bananas\",\"Mangoes\"} \n",
    "B={\"Bananas\",\"Tomatoes\",\"Apples\",\"Potatoes\"} \n",
    "Print the intersection of both the sets"
   ]
  },
  {
   "cell_type": "code",
   "execution_count": 4,
   "metadata": {},
   "outputs": [
    {
     "name": "stdout",
     "output_type": "stream",
     "text": [
      "Intersection: {'Bananas', 'Apples'}\n"
     ]
    }
   ],
   "source": [
    "# sets are defined \n",
    "A = {\"Apples\",\"Bananas\",\"Mangoes\"} \n",
    "B = {\"Bananas\",\"Tomatoes\",\"Apples\",\"Potatoes\"}\n",
    "\n",
    "# Intersection\n",
    "print(\"Intersection:\", A & B)"
   ]
  },
  {
   "cell_type": "code",
   "execution_count": null,
   "metadata": {},
   "outputs": [],
   "source": [
    "Difference between two sets\n",
    "When a set  B  is subtracted from the set  A , \n",
    "we get a set which is a collection of all elements belonging \n",
    "to set  A , which do not appear in set  B . \n",
    "Similarly, the difference between  B  and  A , \n",
    "i.e.  B−A  is the set of all elements that appear in  B  but\n",
    "do not appear in  A . The operator to be used is '-' (minus) \n",
    "for difference."
   ]
  },
  {
   "cell_type": "code",
   "execution_count": 5,
   "metadata": {},
   "outputs": [
    {
     "name": "stdout",
     "output_type": "stream",
     "text": [
      "Difference: {0, 8, 6}\n"
     ]
    }
   ],
   "source": [
    "# Given sets A and B\n",
    "A = {0, 2, 4, 6, 8}\n",
    "B = {1, 2, 3, 4, 5}\n",
    "print(\"Difference:\", A - B)"
   ]
  },
  {
   "cell_type": "markdown",
   "metadata": {},
   "source": [
    "Exercise\n",
    "Given two sets  A  and  B  as\n",
    "\n",
    "A={\"Apples\",\"Bananas\",\"Mangoes\"} \n",
    "B={\"Bananas\",\"Tomatoes\",\"Apples\",\"Potatoes\"} \n",
    "Print the following\n",
    "\n",
    "A−B \n",
    "B−A"
   ]
  },
  {
   "cell_type": "code",
   "execution_count": 6,
   "metadata": {},
   "outputs": [
    {
     "name": "stdout",
     "output_type": "stream",
     "text": [
      "Differences: {'Mangoes'} {'Potatoes', 'Tomatoes'}\n"
     ]
    }
   ],
   "source": [
    "# sets are defined \n",
    "A = {\"Apples\",\"Bananas\",\"Mangoes\"} \n",
    "B = {\"Bananas\",\"Tomatoes\",\"Apples\",\"Potatoes\"}\n",
    "\n",
    "# Intersection\n",
    "print(\"Differences:\", A-B, B-A)"
   ]
  },
  {
   "cell_type": "markdown",
   "metadata": {},
   "source": [
    "Symmetric Difference\n",
    "A symmetric difference of two sets is a collection of elements which occur in either of the sets but not both, i.e. Symmetric difference is the difference of a union of two sets and their intersection: Union-Intersection. The operation to be used is ^ for Symmetric difference."
   ]
  },
  {
   "cell_type": "code",
   "execution_count": 7,
   "metadata": {},
   "outputs": [
    {
     "name": "stdout",
     "output_type": "stream",
     "text": [
      "Symmetric difference: {0, 1, 3, 5, 6, 8}\n"
     ]
    }
   ],
   "source": [
    "# Given sets A and B\n",
    "A = {0, 2, 4, 6, 8}\n",
    "B = {1, 2, 3, 4, 5}\n",
    "print(\"Symmetric difference:\", A ^ B)"
   ]
  },
  {
   "cell_type": "markdown",
   "metadata": {},
   "source": [
    "Exercise\n",
    "Given two sets  A  and  B  as\n",
    "\n",
    "A={\"Apples\",\"Bananas\",\"Mangoes\"} \n",
    "B={\"Bananas\",\"Tomatoes\",\"Apples\",\"Potatoes\"} \n",
    "Determine the symmetric difference and print the answer."
   ]
  },
  {
   "cell_type": "code",
   "execution_count": 8,
   "metadata": {},
   "outputs": [
    {
     "name": "stdout",
     "output_type": "stream",
     "text": [
      "Symmetric difference: {'Potatoes', 'Tomatoes', 'Mangoes'}\n"
     ]
    }
   ],
   "source": [
    "# sets are defined \n",
    "A = {\"Apples\",\"Bananas\",\"Mangoes\"} \n",
    "B = {\"Bananas\",\"Tomatoes\",\"Apples\",\"Potatoes\"}\n",
    "\n",
    "# Intersection\n",
    "print(\"Symmetric difference:\", A^B)"
   ]
  },
  {
   "cell_type": "code",
   "execution_count": null,
   "metadata": {},
   "outputs": [],
   "source": []
  }
 ],
 "metadata": {
  "kernelspec": {
   "display_name": "Python 3",
   "language": "python",
   "name": "python3"
  },
  "language_info": {
   "codemirror_mode": {
    "name": "ipython",
    "version": 3
   },
   "file_extension": ".py",
   "mimetype": "text/x-python",
   "name": "python",
   "nbconvert_exporter": "python",
   "pygments_lexer": "ipython3",
   "version": "3.7.6"
  }
 },
 "nbformat": 4,
 "nbformat_minor": 4
}
